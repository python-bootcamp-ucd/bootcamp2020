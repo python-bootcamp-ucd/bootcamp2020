{
 "cells": [
  {
   "cell_type": "code",
   "execution_count": 5,
   "metadata": {},
   "outputs": [
    {
     "name": "stdout",
     "output_type": "stream",
     "text": [
      "Alaska\n",
      "Alaska\n",
      "Alaska\n",
      "Alaska\n",
      "Alaska\n",
      "Alaska\n",
      "Alaska\n",
      "Alaska\n",
      "Alaska\n",
      "Alaska\n",
      "Alaska\n",
      "Alaska\n",
      "Alaska\n",
      "Alaska\n",
      "Alaska\n",
      "Alaska\n",
      "Alaska\n",
      "Alaska\n",
      "Alaska\n",
      "Alaska\n",
      "Alaska\n",
      "Alaska\n",
      "Alaska\n",
      "Alaska\n",
      "Alaska\n",
      "Alaska\n",
      "Alaska\n",
      "Alaska\n",
      "Alaska\n",
      "Alaska\n"
     ]
    }
   ],
   "source": [
    "import numpy as np\n",
    "import pandas as pd\n",
    "import matplotlib.pyplot as plt\n",
    "%matplotlib widget\n",
    "filename = 'StateYlyTempAndLocData.csv'\n",
    "raw = []\n",
    "fid = open(filename,'r')\n",
    "hdr = fid.readline()\n",
    "for i in fid:\n",
    "    splitted = i.split(',')\n",
    "    tmp = [splitted[0]]\n",
    "    for j in splitted[1:]:\n",
    "        try:\n",
    "            tmp.append(float(j))\n",
    "        except:\n",
    "            print(tmp[0])\n",
    "    raw.append(tmp)"
   ]
  },
  {
   "cell_type": "code",
   "execution_count": 6,
   "metadata": {},
   "outputs": [
    {
     "data": {
      "text/plain": [
       "'Year,Lat,Long,2020,2019,2018,2017,2016,2015,2014,2013,2012,2011,2010,2009,2008,2007,2006,2005,2004,2003,2002,2001,2000,1999,1998,1997,1996,1995,1994,1993,1992,1991,1990,1989,1988,1987,1986,1985,1984,1983,1982,1981,1980,1979,1978,1977,1976,1975,1974,1973,1972,1971,1970,1969,1968,1967,1966,1965,1964,1963,1962,1961,1960,1959,1958,1957,1956,1955,1954,1953,1952,1951,1950,1949,1948,1947,1946,1945,1944,1943,1942,1941,1940,1939,1938,1937,1936,1935,1934,1933,1932,1931,1930,1929,1928,1927,1926,1925,1924,1923,1922,1921,1920,1919,1918,1917,1916,1915,1914,1913,1912,1911,1910,1909,1908,1907,1906,1905,1904,1903,1902,1901,1900,1899,1898,1897,1896\\n'"
      ]
     },
     "execution_count": 6,
     "metadata": {},
     "output_type": "execute_result"
    }
   ],
   "source": [
    "hdr"
   ]
  },
  {
   "cell_type": "code",
   "execution_count": 10,
   "metadata": {},
   "outputs": [
    {
     "data": {
      "text/plain": [
       "[['Alabama', 32.7794, 86.8287, 1.2399999999999949],\n",
       " ['Alaska', 64.0685, 152.278, 2.8999999999999986],\n",
       " ['Arizona', 34.2744, 111.66, 2.3100000000000023],\n",
       " ['Arkansas', 34.8938, 92.4426, 1.2899999999999991],\n",
       " ['California', 37.1841, 119.469, 2.799999999999997],\n",
       " ['Colorado', 38.9972, 105.547, 2.6599999999999966],\n",
       " ['Connecticut', 41.6219, 72.7273, 3.6500000000000057],\n",
       " ['Delaware', 38.9896, 75.505, 3.520000000000003],\n",
       " ['Florida', 28.6305, 82.4497, 2.5400000000000063],\n",
       " ['Georgia', 32.6415, 83.4426, 1.75],\n",
       " ['Idaho', 44.3509, 114.613, 1.9199999999999946],\n",
       " ['Illinois', 40.0417, 89.1965, 2.0900000000000034],\n",
       " ['Indiana', 39.8942, 86.2816, 1.7900000000000063],\n",
       " ['Iowa', 42.0751, 93.496, 1.8899999999999935],\n",
       " ['Kansas', 38.4937, 98.3804, 2.240000000000002],\n",
       " ['Kentucky', 37.5347, 85.3021, 4.6499999999999915],\n",
       " ['Louisiana', 31.0689, 91.9968, 1.539999999999992],\n",
       " ['Maine', 45.3695, 69.2428, 3.270000000000003],\n",
       " ['Maryland', 39.055, 76.7909, 2.9399999999999977],\n",
       " ['Massachusetts', 42.2596, 71.8083, 3.479999999999997],\n",
       " ['Michigan', 44.3467, 85.4102, 2.970000000000006],\n",
       " ['Minnesota', 46.2807, 94.3053, 2.8300000000000054],\n",
       " ['Mississippi', 32.7364, 89.6678, 1.240000000000002],\n",
       " ['Missouri', 38.3566, 92.458, 1.710000000000015],\n",
       " ['Montana', 47.0527, 109.633, 2.4399999999999977],\n",
       " ['Nebraska', 41.5378, 99.7951, 2.2199999999999918],\n",
       " ['Nevada', 39.3289, 116.631, 2.4499999999999957],\n",
       " ['New Hampshire', 43.6805, 71.5811, 3.1899999999999977],\n",
       " ['New Jersey', 40.1907, 74.6728, 3.8599999999999994],\n",
       " ['New Mexico', 34.4071, 106.112, 2.460000000000001],\n",
       " ['New York', 42.9538, 75.5268, 2.3900000000000006],\n",
       " ['North Carolina', 35.5557, 79.3877, 1.9799999999999969],\n",
       " ['North Dakota', 47.4501, 100.465, 3.2099999999999937],\n",
       " ['Ohio', 40.2862, 82.7937, 1.9600000000000009],\n",
       " ['Oklahoma', 35.5889, 97.4943, 1.6700000000000088],\n",
       " ['Oregon', 43.9336, 120.558, 2.7099999999999937],\n",
       " ['Pennsylvania', 40.8781, 77.7996, 2.219999999999999],\n",
       " ['Rhode Island', 41.6762, 71.5562, 3.8599999999999923],\n",
       " ['South Carolina', 33.9169, 80.8964, 1.8599999999999852],\n",
       " ['South Dakota', 44.4443, 100.226, 2.3799999999999955],\n",
       " ['Tennessee', 35.858, 86.3505, 1.4299999999999997],\n",
       " ['Texas', 31.4757, 99.3312, 2.1599999999999966],\n",
       " ['Utah', 39.3055, 111.67, 3.0300000000000082],\n",
       " ['Vermont', 44.0687, 72.6658, 2.989999999999988],\n",
       " ['Virginia', 37.5215, 78.8537, 1.9899999999999949],\n",
       " ['Washington', 47.3826, 120.447, 1.8100000000000023],\n",
       " ['West Virginia', 38.6409, 80.6227, 1.5800000000000054],\n",
       " ['Wisconsin', 44.6243, 89.9941, 2.059999999999995],\n",
       " ['Wyoming', 42.9957, 107.551, -2.6700000000000017]]"
      ]
     },
     "execution_count": 10,
     "metadata": {},
     "output_type": "execute_result"
    }
   ],
   "source": [
    "StateData = []\n",
    "for i in raw:\n",
    "    tmp = i[:3]\n",
    "    last10 = np.mean(np.array(i[3:13]))\n",
    "    first10 = np.mean(np.array(i[-10:]))\n",
    "    difference = last10-first10\n",
    "    tmp.append(difference)\n",
    "    StateData.append(tmp)\n",
    "StateData"
   ]
  },
  {
   "cell_type": "code",
   "execution_count": 11,
   "metadata": {},
   "outputs": [],
   "source": [
    "lats = []\n",
    "lons = []\n",
    "stateNames = []\n",
    "TempDiff = []\n",
    "for i in StateData:\n",
    "    lats.append(float(i[1]))\n",
    "    lons.append(-1*float(i[2]))\n",
    "    stateNames.append(i[0])\n",
    "    TempDiff.append(i[3])\n",
    "#TempDiff = np.array(TempDiff)-np.min(TempDiff)\n",
    "#TempDiff = TempDiff/np.max(TempDiff)"
   ]
  },
  {
   "cell_type": "code",
   "execution_count": 12,
   "metadata": {},
   "outputs": [
    {
     "data": {
      "text/plain": [
       "[1.2399999999999949,\n",
       " 2.8999999999999986,\n",
       " 2.3100000000000023,\n",
       " 1.2899999999999991,\n",
       " 2.799999999999997,\n",
       " 2.6599999999999966,\n",
       " 3.6500000000000057,\n",
       " 3.520000000000003,\n",
       " 2.5400000000000063,\n",
       " 1.75,\n",
       " 1.9199999999999946,\n",
       " 2.0900000000000034,\n",
       " 1.7900000000000063,\n",
       " 1.8899999999999935,\n",
       " 2.240000000000002,\n",
       " 4.6499999999999915,\n",
       " 1.539999999999992,\n",
       " 3.270000000000003,\n",
       " 2.9399999999999977,\n",
       " 3.479999999999997,\n",
       " 2.970000000000006,\n",
       " 2.8300000000000054,\n",
       " 1.240000000000002,\n",
       " 1.710000000000015,\n",
       " 2.4399999999999977,\n",
       " 2.2199999999999918,\n",
       " 2.4499999999999957,\n",
       " 3.1899999999999977,\n",
       " 3.8599999999999994,\n",
       " 2.460000000000001,\n",
       " 2.3900000000000006,\n",
       " 1.9799999999999969,\n",
       " 3.2099999999999937,\n",
       " 1.9600000000000009,\n",
       " 1.6700000000000088,\n",
       " 2.7099999999999937,\n",
       " 2.219999999999999,\n",
       " 3.8599999999999923,\n",
       " 1.8599999999999852,\n",
       " 2.3799999999999955,\n",
       " 1.4299999999999997,\n",
       " 2.1599999999999966,\n",
       " 3.0300000000000082,\n",
       " 2.989999999999988,\n",
       " 1.9899999999999949,\n",
       " 1.8100000000000023,\n",
       " 1.5800000000000054,\n",
       " 2.059999999999995,\n",
       " -2.6700000000000017]"
      ]
     },
     "execution_count": 12,
     "metadata": {},
     "output_type": "execute_result"
    }
   ],
   "source": [
    "TempDiff"
   ]
  },
  {
   "cell_type": "code",
   "execution_count": 14,
   "metadata": {},
   "outputs": [
    {
     "data": {
      "application/vnd.jupyter.widget-view+json": {
       "model_id": "d5034b3718554dc7987ec198d4337039",
       "version_major": 2,
       "version_minor": 0
      },
      "text/plain": [
       "Canvas(toolbar=Toolbar(toolitems=[('Home', 'Reset original view', 'home', 'home'), ('Back', 'Back to previous …"
      ]
     },
     "metadata": {},
     "output_type": "display_data"
    }
   ],
   "source": [
    "plt.figure()\n",
    "plt.scatter(lons,lats,c=TempDiff,cmap='seismic')\n",
    "plt.ylabel(hdr[1])\n",
    "plt.xlabel(hdr[2])\n",
    "plt.title('Temperature difference between mean of last 10 years and earliest 10 years')\n",
    "plt.colorbar()\n",
    "plt.show()"
   ]
  },
  {
   "cell_type": "code",
   "execution_count": 21,
   "metadata": {},
   "outputs": [
    {
     "name": "stdout",
     "output_type": "stream",
     "text": [
      "2\n"
     ]
    }
   ],
   "source": [
    "test = [1,2,3,4,5,6]\n",
    "count = 0\n",
    "index = 0\n",
    "for i in test:\n",
    "    if i == 3:\n",
    "        index = count\n",
    "        break\n",
    "    else:\n",
    "        count += 1\n",
    "print(index)"
   ]
  },
  {
   "cell_type": "code",
   "execution_count": 19,
   "metadata": {},
   "outputs": [
    {
     "data": {
      "text/plain": [
       "1"
      ]
     },
     "execution_count": 19,
     "metadata": {},
     "output_type": "execute_result"
    }
   ],
   "source": [
    "a"
   ]
  },
  {
   "cell_type": "code",
   "execution_count": null,
   "metadata": {},
   "outputs": [],
   "source": [
    "TmpTemperature = temp[3:13]\n",
    "Temp = []\n",
    "for i in TmpTemperature:\n",
    "    if i != '':\n",
    "        Temp.append(float(i))\n",
    "\n",
    "Temp[-10:]"
   ]
  }
 ],
 "metadata": {
  "kernelspec": {
   "display_name": "Python 3",
   "language": "python",
   "name": "python3"
  },
  "language_info": {
   "codemirror_mode": {
    "name": "ipython",
    "version": 3
   },
   "file_extension": ".py",
   "mimetype": "text/x-python",
   "name": "python",
   "nbconvert_exporter": "python",
   "pygments_lexer": "ipython3",
   "version": "3.8.5"
  }
 },
 "nbformat": 4,
 "nbformat_minor": 4
}

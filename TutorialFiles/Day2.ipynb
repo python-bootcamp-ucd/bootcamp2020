{
 "cells": [
  {
   "cell_type": "markdown",
   "metadata": {},
   "source": [
    "# Python Bootcamp Day 2\n",
    "## Theme for day 2: Manipulation and math of lists.\n",
    "\n",
    "Today's goal is to take your raw data, select subsets of it, and do some basic manipulation to extract useful information from the data.  The things that we will cover today include:\n",
    " - indexing lists\n",
    " - smoothing data\n",
    " - plotting data"
   ]
  },
  {
   "cell_type": "markdown",
   "metadata": {},
   "source": [
    "First, we'll import some python libraries for manipulating and plotting data."
   ]
  },
  {
   "cell_type": "code",
   "execution_count": 108,
   "metadata": {},
   "outputs": [],
   "source": [
    "import matplotlib.pyplot as plt\n",
    "#This next line of code changes any matplotlib figures into interactive plots so we can manipulate them in the output, rather than just programatically.  It's specific to jupyter\n",
    "%matplotlib widget \n",
    "import numpy as np\n",
    "import scipy as sp\n",
    "import pandas as pd\n",
    "from pathlib import Path"
   ]
  },
  {
   "cell_type": "markdown",
   "metadata": {},
   "source": [
    "## Indexing\n",
    "Sometimes, we only want a subset of a whole dataset, or even to select out one individual point.  This is accomplished by selecting points in the array using their index.  This can be thought of as an ID for the spot.  For a list (or vector, or 1D array), the index just indicates the possition of the item in the list.  Python begins indexing at 0, so the first item in the list has an index of 0.  If we have a list of 4 things, [orange, cherry, apple, bannana], the index for each looks like:\n",
    "\n",
    "|Index|Item|\n",
    "|---|---|\n",
    "|0|orange|\n",
    "|1|cherry|\n",
    "|2|apple|\n",
    "|3|banana|\n",
    "|...|...|\n",
    "|9|pear|"
   ]
  },
  {
   "cell_type": "markdown",
   "metadata": {},
   "source": [
    "Lets create a list with the fruits."
   ]
  },
  {
   "cell_type": "code",
   "execution_count": 71,
   "metadata": {},
   "outputs": [],
   "source": [
    "fruit = ['orange','cherry','apple','banana','mango','blackberry','strawberry','peach','nectarine','pear']"
   ]
  },
  {
   "cell_type": "markdown",
   "metadata": {},
   "source": [
    "Lets say I want to access the second item in the list.  Remember that in python we start counting at 0, so the index for that item is 1."
   ]
  },
  {
   "cell_type": "code",
   "execution_count": 72,
   "metadata": {},
   "outputs": [
    {
     "name": "stdout",
     "output_type": "stream",
     "text": [
      "cherry\n"
     ]
    }
   ],
   "source": [
    "print(fruit[1])"
   ]
  },
  {
   "cell_type": "markdown",
   "metadata": {},
   "source": [
    "If I want to get a set of items from a list, lets say the 2nd (index 1) through the 5th (index 4) items in our fruits list, I can use the syntax 1:5, which says index 1 through index 5 but not including the item at index 5 (kind of confusing, but that's what it is...)"
   ]
  },
  {
   "cell_type": "code",
   "execution_count": 73,
   "metadata": {},
   "outputs": [
    {
     "name": "stdout",
     "output_type": "stream",
     "text": [
      "['cherry', 'apple', 'banana', 'mango']\n"
     ]
    }
   ],
   "source": [
    "print(fruit[1:5])"
   ]
  },
  {
   "cell_type": "markdown",
   "metadata": {},
   "source": [
    "If we want to start at the front of the list, we start with index 0"
   ]
  },
  {
   "cell_type": "code",
   "execution_count": 74,
   "metadata": {},
   "outputs": [
    {
     "name": "stdout",
     "output_type": "stream",
     "text": [
      "['orange', 'cherry']\n"
     ]
    }
   ],
   "source": [
    "print(fruit[0:2])"
   ]
  },
  {
   "cell_type": "markdown",
   "metadata": {},
   "source": [
    "If we don't put a number before the \":\"  python assumes we want to start indexing at the front of the list."
   ]
  },
  {
   "cell_type": "code",
   "execution_count": 75,
   "metadata": {},
   "outputs": [
    {
     "data": {
      "text/plain": [
       "['orange', 'cherry']"
      ]
     },
     "execution_count": 75,
     "metadata": {},
     "output_type": "execute_result"
    }
   ],
   "source": [
    "fruit[:2]"
   ]
  },
  {
   "cell_type": "markdown",
   "metadata": {},
   "source": [
    "Similarly, we can go from an index to the end of the list by ommiting the index after the \":\""
   ]
  },
  {
   "cell_type": "code",
   "execution_count": 7,
   "metadata": {},
   "outputs": [
    {
     "name": "stdout",
     "output_type": "stream",
     "text": [
      "['banana', 'mango', 'blackberry', 'strawberry', 'peach', 'nectarine', 'pear']\n"
     ]
    }
   ],
   "source": [
    "print(fruit[3:])"
   ]
  },
  {
   "cell_type": "markdown",
   "metadata": {},
   "source": [
    "Positive numbers in the index imply that we want to start indexing at the front of the list.  Python also indexes lists with negative numbers, to indicate the position relative to the end of the list.  The fruit list above can also be represented like this:\n",
    "\n",
    "|Index|Item|\n",
    "|---|---|\n",
    "|-10|orange|\n",
    "|-9|cherry|\n",
    "|-8|apple|\n",
    "|...|...|\n",
    "|-1|pear|"
   ]
  },
  {
   "cell_type": "code",
   "execution_count": 76,
   "metadata": {},
   "outputs": [
    {
     "name": "stdout",
     "output_type": "stream",
     "text": [
      "orange\n"
     ]
    }
   ],
   "source": [
    "print(fruit[-10])"
   ]
  },
  {
   "cell_type": "code",
   "execution_count": 77,
   "metadata": {},
   "outputs": [
    {
     "name": "stdout",
     "output_type": "stream",
     "text": [
      "pear\n",
      "['blackberry', 'strawberry', 'peach', 'nectarine']\n"
     ]
    }
   ],
   "source": [
    "print(fruit[-1])\n",
    "print(fruit[5:-1])"
   ]
  },
  {
   "cell_type": "markdown",
   "metadata": {},
   "source": [
    "If we have a 2 dimensional array like:\n",
    "\n",
    "| | | | |\n",
    "|---|---|---|---|\n",
    "|17|16|1|3|\n",
    "|2|0|22|36|\n",
    "|3|32|99|13|\n",
    "|89|17|6|4|\n",
    "\n",
    "The ID for the rows and columns of this array are below.  The first number is the row index and the second number is the column index.\n",
    "\n",
    "| | | | |\n",
    "|---|---|---|---|\n",
    "|0,0|0,1|0,2|0,3| \n",
    "|1,0|1,1|1,2|1,3|\n",
    "|2,0|2,1|2,2|2,3|\n",
    "|3,0|3,1|3,2|3,3|\n",
    "\n",
    "Let's initialize a list of lists to produce a 2 dimensional array.  We'll then convert it to a numpy array to do more traditional (more like Matlab) indexing."
   ]
  },
  {
   "cell_type": "code",
   "execution_count": 10,
   "metadata": {},
   "outputs": [
    {
     "name": "stdout",
     "output_type": "stream",
     "text": [
      "[[17 16  1  3]\n",
      " [ 2  0 22 36]\n",
      " [ 3 32 99 13]\n",
      " [89 17  6  4]]\n"
     ]
    }
   ],
   "source": [
    "randomNumbers = [[17,16,1,3],[2,0,22,36],[3,32,99,13],[89,17,6,4]]\n",
    "randomNumbersArr = np.array(randomNumbers)\n",
    "print(randomNumbersArr)"
   ]
  },
  {
   "cell_type": "markdown",
   "metadata": {},
   "source": [
    "Indexing the list, you have to select the list in the list you want first, then select the item inside that list.  This can be done in 2 steps, or 1"
   ]
  },
  {
   "cell_type": "code",
   "execution_count": 78,
   "metadata": {},
   "outputs": [
    {
     "name": "stdout",
     "output_type": "stream",
     "text": [
      "16\n",
      "16\n"
     ]
    }
   ],
   "source": [
    "a = randomNumbers[0]\n",
    "b = a[1]\n",
    "print(b)\n",
    "print(randomNumbers[0][1]) #This is equivellent to the above 3 lines"
   ]
  },
  {
   "cell_type": "markdown",
   "metadata": {},
   "source": [
    "When we convert the list into a numpy array, we can index the array by inputting the index the same way seen in the index table above.  Often, you will want to convert your 2D lists into arrays to speed processing time, and for working with the data in general (many built in functions in the numpy library work better with arrays)."
   ]
  },
  {
   "cell_type": "code",
   "execution_count": 79,
   "metadata": {},
   "outputs": [
    {
     "name": "stdout",
     "output_type": "stream",
     "text": [
      "16\n",
      "6\n"
     ]
    }
   ],
   "source": [
    "print(randomNumbersArr[0,1])\n",
    "print(randomNumbersArr[3,2])"
   ]
  },
  {
   "cell_type": "markdown",
   "metadata": {},
   "source": [
    "We can also index to get sub-arrays.  To get the upper 2x2 matrix, we can index the same way we were doing the lists."
   ]
  },
  {
   "cell_type": "code",
   "execution_count": 13,
   "metadata": {},
   "outputs": [
    {
     "name": "stdout",
     "output_type": "stream",
     "text": [
      "[[17 16]\n",
      " [ 2  0]]\n"
     ]
    }
   ],
   "source": [
    "print(randomNumbersArr[0:2,0:2])"
   ]
  },
  {
   "cell_type": "markdown",
   "metadata": {},
   "source": [
    "When we have multidimensional arrays, we also have the option to pull everything from a particular row or column.  This is intuitive based on what we know from indexing lists.  A \":\" with nothing before or after indicates we want everything.  So if we want every row in a particular column, we can do so by leaving either the row or the column index as a \":\".  to get all of the rows of column 2, we'd use the index [:,1]"
   ]
  },
  {
   "cell_type": "code",
   "execution_count": 14,
   "metadata": {},
   "outputs": [
    {
     "name": "stdout",
     "output_type": "stream",
     "text": [
      "[16  0 32 17]\n"
     ]
    }
   ],
   "source": [
    "print(randomNumbersArr[:,1])"
   ]
  },
  {
   "cell_type": "markdown",
   "metadata": {},
   "source": [
    "If we want every item from a particular column, we can grab it with the same style of syntax"
   ]
  },
  {
   "cell_type": "code",
   "execution_count": 15,
   "metadata": {},
   "outputs": [
    {
     "name": "stdout",
     "output_type": "stream",
     "text": [
      "[ 2  0 22 36]\n"
     ]
    }
   ],
   "source": [
    "print(randomNumbersArr[1,:])"
   ]
  },
  {
   "cell_type": "markdown",
   "metadata": {},
   "source": [
    "Or maybe we need everything from a few columns."
   ]
  },
  {
   "cell_type": "code",
   "execution_count": 16,
   "metadata": {},
   "outputs": [
    {
     "name": "stdout",
     "output_type": "stream",
     "text": [
      "[[16  1]\n",
      " [ 0 22]\n",
      " [32 99]\n",
      " [17  6]]\n"
     ]
    }
   ],
   "source": [
    "print(randomNumbersArr[:,1:3])"
   ]
  },
  {
   "cell_type": "markdown",
   "metadata": {},
   "source": [
    "This same principle applies out to any dimensionality of array.  We can use this to access items in an array in python.  Just add an extra \",\" for the next dimension."
   ]
  },
  {
   "cell_type": "markdown",
   "metadata": {},
   "source": [
    "## Some pandas indexing"
   ]
  },
  {
   "cell_type": "markdown",
   "metadata": {},
   "source": [
    "Next, we're going to import data to work through some examples.  We'll do it in 2 ways, once with the built in \"open\" command, and once using the panda's library, which we'll also give a brief introduction to."
   ]
  },
  {
   "cell_type": "markdown",
   "metadata": {},
   "source": [
    "First: We'll import the data using the built in methods"
   ]
  },
  {
   "cell_type": "code",
   "execution_count": 109,
   "metadata": {},
   "outputs": [],
   "source": [
    "filename = Path('TutorialData/HC3N_FIR_35mubar_transmitance_Z_0005Thresh.spectrumcal')\n",
    "fid = open(filename,'r')\n",
    "rawX = []\n",
    "rawY = []\n",
    "for i in fid:\n",
    "    tmp = i.split(',')\n",
    "    rawX.append(float(tmp[0]))\n",
    "    rawY.append(float(tmp[1]))\n",
    "fid.close()"
   ]
  },
  {
   "cell_type": "markdown",
   "metadata": {},
   "source": [
    "This is a pretty big dataset, so I'm going to turn these lists into numpy arrays, which is optimized for doing math with large lists (arrays) and will speed up any computations we decide to do."
   ]
  },
  {
   "cell_type": "code",
   "execution_count": 110,
   "metadata": {},
   "outputs": [
    {
     "data": {
      "text/plain": [
       "array([ 39.999802,  40.000272,  40.000742, ..., 719.998947, 719.999417,\n",
       "       719.999887])"
      ]
     },
     "execution_count": 110,
     "metadata": {},
     "output_type": "execute_result"
    }
   ],
   "source": [
    "rawX = np.array(rawX)\n",
    "rawY = np.array(rawY)\n",
    "rawX"
   ]
  },
  {
   "cell_type": "markdown",
   "metadata": {},
   "source": [
    "## Simple visualization\n",
    "If you've watched the module on plotting data, you'll have already seen how we can make simple plots using matplotlib to make quick line graphs of our data"
   ]
  },
  {
   "cell_type": "code",
   "execution_count": 111,
   "metadata": {},
   "outputs": [
    {
     "data": {
      "application/vnd.jupyter.widget-view+json": {
       "model_id": "9e8f2095f2694f488a39af306f438883",
       "version_major": 2,
       "version_minor": 0
      },
      "text/plain": [
       "Canvas(toolbar=Toolbar(toolitems=[('Home', 'Reset original view', 'home', 'home'), ('Back', 'Back to previous …"
      ]
     },
     "metadata": {},
     "output_type": "display_data"
    },
    {
     "data": {
      "text/plain": [
       "[<matplotlib.lines.Line2D at 0x151748f0bb0>]"
      ]
     },
     "execution_count": 111,
     "metadata": {},
     "output_type": "execute_result"
    }
   ],
   "source": [
    "plt.figure()\n",
    "plt.plot(rawX,rawY)"
   ]
  },
  {
   "cell_type": "code",
   "execution_count": 81,
   "metadata": {},
   "outputs": [],
   "source": [
    "plt.xlim([202.67,202.71])\n",
    "plt.ylim([-.2,1.1])\n",
    "plt.show()"
   ]
  },
  {
   "cell_type": "markdown",
   "metadata": {},
   "source": [
    "Now we'll Import the data using the pandas library.  Pandas has some great built in data importing, and has developed a very nice datastructure for working with the imported data.  If your data has a header file, the columns will automatically be labeled, or you can specify what to call the columns with the \"names\" keyword.  Run the cell directly below this one for more information on the keywords availiable in the read_csv file."
   ]
  },
  {
   "cell_type": "code",
   "execution_count": null,
   "metadata": {},
   "outputs": [],
   "source": [
    "pd.read_csv?"
   ]
  },
  {
   "cell_type": "code",
   "execution_count": 83,
   "metadata": {},
   "outputs": [
    {
     "data": {
      "text/html": [
       "<div>\n",
       "<style scoped>\n",
       "    .dataframe tbody tr th:only-of-type {\n",
       "        vertical-align: middle;\n",
       "    }\n",
       "\n",
       "    .dataframe tbody tr th {\n",
       "        vertical-align: top;\n",
       "    }\n",
       "\n",
       "    .dataframe thead th {\n",
       "        text-align: right;\n",
       "    }\n",
       "</style>\n",
       "<table border=\"1\" class=\"dataframe\">\n",
       "  <thead>\n",
       "    <tr style=\"text-align: right;\">\n",
       "      <th></th>\n",
       "      <th>frequency</th>\n",
       "      <th>transmittance</th>\n",
       "    </tr>\n",
       "  </thead>\n",
       "  <tbody>\n",
       "    <tr>\n",
       "      <th>0</th>\n",
       "      <td>462.0</td>\n",
       "      <td>0.19284</td>\n",
       "    </tr>\n",
       "    <tr>\n",
       "      <th>1</th>\n",
       "      <td>466.0</td>\n",
       "      <td>0.19261</td>\n",
       "    </tr>\n",
       "    <tr>\n",
       "      <th>2</th>\n",
       "      <td>470.0</td>\n",
       "      <td>0.19153</td>\n",
       "    </tr>\n",
       "    <tr>\n",
       "      <th>3</th>\n",
       "      <td>474.0</td>\n",
       "      <td>0.19078</td>\n",
       "    </tr>\n",
       "    <tr>\n",
       "      <th>4</th>\n",
       "      <td>478.0</td>\n",
       "      <td>0.19059</td>\n",
       "    </tr>\n",
       "  </tbody>\n",
       "</table>\n",
       "</div>"
      ],
      "text/plain": [
       "   frequency  transmittance\n",
       "0      462.0        0.19284\n",
       "1      466.0        0.19261\n",
       "2      470.0        0.19153\n",
       "3      474.0        0.19078\n",
       "4      478.0        0.19059"
      ]
     },
     "execution_count": 83,
     "metadata": {},
     "output_type": "execute_result"
    }
   ],
   "source": [
    "rawData = pd.read_csv(filename,sep=',',names=['frequency','transmittance'])\n",
    "rawData.head() #This lets us examine the top 5 rows of the data to see if it's importing correctly."
   ]
  },
  {
   "cell_type": "markdown",
   "metadata": {},
   "source": [
    "Because the columns have names, we can index a particular column directly by using the name."
   ]
  },
  {
   "cell_type": "code",
   "execution_count": 84,
   "metadata": {},
   "outputs": [
    {
     "data": {
      "text/plain": [
       "0       462.0\n",
       "1       466.0\n",
       "2       470.0\n",
       "3       474.0\n",
       "4       478.0\n",
       "        ...  \n",
       "829    3778.0\n",
       "830    3782.0\n",
       "831    3786.0\n",
       "832    3790.0\n",
       "833    3794.0\n",
       "Name: frequency, Length: 834, dtype: float64"
      ]
     },
     "execution_count": 84,
     "metadata": {},
     "output_type": "execute_result"
    }
   ],
   "source": [
    "rawData['frequency']"
   ]
  },
  {
   "cell_type": "code",
   "execution_count": 85,
   "metadata": {},
   "outputs": [
    {
     "data": {
      "text/plain": [
       "0      0.19284\n",
       "1      0.19261\n",
       "2      0.19153\n",
       "3      0.19078\n",
       "4      0.19059\n",
       "        ...   \n",
       "829    0.36475\n",
       "830    0.36527\n",
       "831    0.36542\n",
       "832    0.36542\n",
       "833    0.36542\n",
       "Name: transmittance, Length: 834, dtype: float64"
      ]
     },
     "execution_count": 85,
     "metadata": {},
     "output_type": "execute_result"
    }
   ],
   "source": [
    "rawData['transmittance']"
   ]
  },
  {
   "cell_type": "markdown",
   "metadata": {},
   "source": [
    "Because of how the datafile is setup, we can't index the data the same way we would a numpy array."
   ]
  },
  {
   "cell_type": "code",
   "execution_count": 23,
   "metadata": {},
   "outputs": [
    {
     "ename": "KeyError",
     "evalue": "(100, 1)",
     "output_type": "error",
     "traceback": [
      "\u001b[1;31m---------------------------------------------------------------------------\u001b[0m",
      "\u001b[1;31mKeyError\u001b[0m                                  Traceback (most recent call last)",
      "\u001b[1;32m~\\Anaconda3\\envs\\widgets-tutorial\\lib\\site-packages\\pandas\\core\\indexes\\base.py\u001b[0m in \u001b[0;36mget_loc\u001b[1;34m(self, key, method, tolerance)\u001b[0m\n\u001b[0;32m   2888\u001b[0m             \u001b[1;32mtry\u001b[0m\u001b[1;33m:\u001b[0m\u001b[1;33m\u001b[0m\u001b[1;33m\u001b[0m\u001b[0m\n\u001b[1;32m-> 2889\u001b[1;33m                 \u001b[1;32mreturn\u001b[0m \u001b[0mself\u001b[0m\u001b[1;33m.\u001b[0m\u001b[0m_engine\u001b[0m\u001b[1;33m.\u001b[0m\u001b[0mget_loc\u001b[0m\u001b[1;33m(\u001b[0m\u001b[0mcasted_key\u001b[0m\u001b[1;33m)\u001b[0m\u001b[1;33m\u001b[0m\u001b[1;33m\u001b[0m\u001b[0m\n\u001b[0m\u001b[0;32m   2890\u001b[0m             \u001b[1;32mexcept\u001b[0m \u001b[0mKeyError\u001b[0m \u001b[1;32mas\u001b[0m \u001b[0merr\u001b[0m\u001b[1;33m:\u001b[0m\u001b[1;33m\u001b[0m\u001b[1;33m\u001b[0m\u001b[0m\n",
      "\u001b[1;32mpandas\\_libs\\index.pyx\u001b[0m in \u001b[0;36mpandas._libs.index.IndexEngine.get_loc\u001b[1;34m()\u001b[0m\n",
      "\u001b[1;32mpandas\\_libs\\index.pyx\u001b[0m in \u001b[0;36mpandas._libs.index.IndexEngine.get_loc\u001b[1;34m()\u001b[0m\n",
      "\u001b[1;32mpandas\\_libs\\hashtable_class_helper.pxi\u001b[0m in \u001b[0;36mpandas._libs.hashtable.PyObjectHashTable.get_item\u001b[1;34m()\u001b[0m\n",
      "\u001b[1;32mpandas\\_libs\\hashtable_class_helper.pxi\u001b[0m in \u001b[0;36mpandas._libs.hashtable.PyObjectHashTable.get_item\u001b[1;34m()\u001b[0m\n",
      "\u001b[1;31mKeyError\u001b[0m: (100, 1)",
      "\nThe above exception was the direct cause of the following exception:\n",
      "\u001b[1;31mKeyError\u001b[0m                                  Traceback (most recent call last)",
      "\u001b[1;32m<ipython-input-23-72ef7e322798>\u001b[0m in \u001b[0;36m<module>\u001b[1;34m\u001b[0m\n\u001b[1;32m----> 1\u001b[1;33m \u001b[0mrawData\u001b[0m\u001b[1;33m[\u001b[0m\u001b[1;36m100\u001b[0m\u001b[1;33m,\u001b[0m\u001b[1;36m1\u001b[0m\u001b[1;33m]\u001b[0m\u001b[1;33m\u001b[0m\u001b[1;33m\u001b[0m\u001b[0m\n\u001b[0m",
      "\u001b[1;32m~\\Anaconda3\\envs\\widgets-tutorial\\lib\\site-packages\\pandas\\core\\frame.py\u001b[0m in \u001b[0;36m__getitem__\u001b[1;34m(self, key)\u001b[0m\n\u001b[0;32m   2897\u001b[0m             \u001b[1;32mif\u001b[0m \u001b[0mself\u001b[0m\u001b[1;33m.\u001b[0m\u001b[0mcolumns\u001b[0m\u001b[1;33m.\u001b[0m\u001b[0mnlevels\u001b[0m \u001b[1;33m>\u001b[0m \u001b[1;36m1\u001b[0m\u001b[1;33m:\u001b[0m\u001b[1;33m\u001b[0m\u001b[1;33m\u001b[0m\u001b[0m\n\u001b[0;32m   2898\u001b[0m                 \u001b[1;32mreturn\u001b[0m \u001b[0mself\u001b[0m\u001b[1;33m.\u001b[0m\u001b[0m_getitem_multilevel\u001b[0m\u001b[1;33m(\u001b[0m\u001b[0mkey\u001b[0m\u001b[1;33m)\u001b[0m\u001b[1;33m\u001b[0m\u001b[1;33m\u001b[0m\u001b[0m\n\u001b[1;32m-> 2899\u001b[1;33m             \u001b[0mindexer\u001b[0m \u001b[1;33m=\u001b[0m \u001b[0mself\u001b[0m\u001b[1;33m.\u001b[0m\u001b[0mcolumns\u001b[0m\u001b[1;33m.\u001b[0m\u001b[0mget_loc\u001b[0m\u001b[1;33m(\u001b[0m\u001b[0mkey\u001b[0m\u001b[1;33m)\u001b[0m\u001b[1;33m\u001b[0m\u001b[1;33m\u001b[0m\u001b[0m\n\u001b[0m\u001b[0;32m   2900\u001b[0m             \u001b[1;32mif\u001b[0m \u001b[0mis_integer\u001b[0m\u001b[1;33m(\u001b[0m\u001b[0mindexer\u001b[0m\u001b[1;33m)\u001b[0m\u001b[1;33m:\u001b[0m\u001b[1;33m\u001b[0m\u001b[1;33m\u001b[0m\u001b[0m\n\u001b[0;32m   2901\u001b[0m                 \u001b[0mindexer\u001b[0m \u001b[1;33m=\u001b[0m \u001b[1;33m[\u001b[0m\u001b[0mindexer\u001b[0m\u001b[1;33m]\u001b[0m\u001b[1;33m\u001b[0m\u001b[1;33m\u001b[0m\u001b[0m\n",
      "\u001b[1;32m~\\Anaconda3\\envs\\widgets-tutorial\\lib\\site-packages\\pandas\\core\\indexes\\base.py\u001b[0m in \u001b[0;36mget_loc\u001b[1;34m(self, key, method, tolerance)\u001b[0m\n\u001b[0;32m   2889\u001b[0m                 \u001b[1;32mreturn\u001b[0m \u001b[0mself\u001b[0m\u001b[1;33m.\u001b[0m\u001b[0m_engine\u001b[0m\u001b[1;33m.\u001b[0m\u001b[0mget_loc\u001b[0m\u001b[1;33m(\u001b[0m\u001b[0mcasted_key\u001b[0m\u001b[1;33m)\u001b[0m\u001b[1;33m\u001b[0m\u001b[1;33m\u001b[0m\u001b[0m\n\u001b[0;32m   2890\u001b[0m             \u001b[1;32mexcept\u001b[0m \u001b[0mKeyError\u001b[0m \u001b[1;32mas\u001b[0m \u001b[0merr\u001b[0m\u001b[1;33m:\u001b[0m\u001b[1;33m\u001b[0m\u001b[1;33m\u001b[0m\u001b[0m\n\u001b[1;32m-> 2891\u001b[1;33m                 \u001b[1;32mraise\u001b[0m \u001b[0mKeyError\u001b[0m\u001b[1;33m(\u001b[0m\u001b[0mkey\u001b[0m\u001b[1;33m)\u001b[0m \u001b[1;32mfrom\u001b[0m \u001b[0merr\u001b[0m\u001b[1;33m\u001b[0m\u001b[1;33m\u001b[0m\u001b[0m\n\u001b[0m\u001b[0;32m   2892\u001b[0m \u001b[1;33m\u001b[0m\u001b[0m\n\u001b[0;32m   2893\u001b[0m         \u001b[1;32mif\u001b[0m \u001b[0mtolerance\u001b[0m \u001b[1;32mis\u001b[0m \u001b[1;32mnot\u001b[0m \u001b[1;32mNone\u001b[0m\u001b[1;33m:\u001b[0m\u001b[1;33m\u001b[0m\u001b[1;33m\u001b[0m\u001b[0m\n",
      "\u001b[1;31mKeyError\u001b[0m: (100, 1)"
     ]
    }
   ],
   "source": [
    "rawData[100,1]"
   ]
  },
  {
   "cell_type": "markdown",
   "metadata": {},
   "source": [
    "Instead, we need to use either the loc, or the iloc built in function of pandas to slice our data using the index values. "
   ]
  },
  {
   "cell_type": "code",
   "execution_count": 23,
   "metadata": {},
   "outputs": [
    {
     "data": {
      "text/plain": [
       "100    40.046882\n",
       "101    40.047362\n",
       "102    40.047832\n",
       "103    40.048302\n",
       "104    40.048772\n",
       "         ...    \n",
       "195    40.091612\n",
       "196    40.092082\n",
       "197    40.092552\n",
       "198    40.093022\n",
       "199    40.093502\n",
       "Name: frequency, Length: 100, dtype: float64"
      ]
     },
     "execution_count": 23,
     "metadata": {},
     "output_type": "execute_result"
    }
   ],
   "source": [
    "rawData.iloc[100:200,0]"
   ]
  },
  {
   "cell_type": "code",
   "execution_count": 24,
   "metadata": {},
   "outputs": [
    {
     "data": {
      "text/plain": [
       "frequency        40.006872\n",
       "transmittance     0.231060\n",
       "Name: 15, dtype: float64"
      ]
     },
     "execution_count": 24,
     "metadata": {},
     "output_type": "execute_result"
    }
   ],
   "source": [
    "rawData.iloc[15,:]"
   ]
  },
  {
   "cell_type": "markdown",
   "metadata": {},
   "source": [
    "One of the fun things we can do with pandas fairly simply is use the names of the columns to find all the data in the panda datastructure between specific values in a particular column.  This is done below."
   ]
  },
  {
   "cell_type": "code",
   "execution_count": 38,
   "metadata": {},
   "outputs": [
    {
     "data": {
      "text/html": [
       "<div>\n",
       "<style scoped>\n",
       "    .dataframe tbody tr th:only-of-type {\n",
       "        vertical-align: middle;\n",
       "    }\n",
       "\n",
       "    .dataframe tbody tr th {\n",
       "        vertical-align: top;\n",
       "    }\n",
       "\n",
       "    .dataframe thead th {\n",
       "        text-align: right;\n",
       "    }\n",
       "</style>\n",
       "<table border=\"1\" class=\"dataframe\">\n",
       "  <thead>\n",
       "    <tr style=\"text-align: right;\">\n",
       "      <th></th>\n",
       "      <th>frequency</th>\n",
       "      <th>transmittance</th>\n",
       "    </tr>\n",
       "  </thead>\n",
       "  <tbody>\n",
       "    <tr>\n",
       "      <th>345506</th>\n",
       "      <td>202.670131</td>\n",
       "      <td>1.024467</td>\n",
       "    </tr>\n",
       "    <tr>\n",
       "      <th>345507</th>\n",
       "      <td>202.670611</td>\n",
       "      <td>0.992668</td>\n",
       "    </tr>\n",
       "    <tr>\n",
       "      <th>345508</th>\n",
       "      <td>202.671081</td>\n",
       "      <td>0.970010</td>\n",
       "    </tr>\n",
       "    <tr>\n",
       "      <th>345509</th>\n",
       "      <td>202.671551</td>\n",
       "      <td>1.010211</td>\n",
       "    </tr>\n",
       "    <tr>\n",
       "      <th>345510</th>\n",
       "      <td>202.672021</td>\n",
       "      <td>0.954384</td>\n",
       "    </tr>\n",
       "    <tr>\n",
       "      <th>...</th>\n",
       "      <td>...</td>\n",
       "      <td>...</td>\n",
       "    </tr>\n",
       "    <tr>\n",
       "      <th>345586</th>\n",
       "      <td>202.707801</td>\n",
       "      <td>0.996443</td>\n",
       "    </tr>\n",
       "    <tr>\n",
       "      <th>345587</th>\n",
       "      <td>202.708271</td>\n",
       "      <td>0.967306</td>\n",
       "    </tr>\n",
       "    <tr>\n",
       "      <th>345588</th>\n",
       "      <td>202.708741</td>\n",
       "      <td>0.948392</td>\n",
       "    </tr>\n",
       "    <tr>\n",
       "      <th>345589</th>\n",
       "      <td>202.709211</td>\n",
       "      <td>0.966158</td>\n",
       "    </tr>\n",
       "    <tr>\n",
       "      <th>345590</th>\n",
       "      <td>202.709681</td>\n",
       "      <td>0.996176</td>\n",
       "    </tr>\n",
       "  </tbody>\n",
       "</table>\n",
       "<p>85 rows × 2 columns</p>\n",
       "</div>"
      ],
      "text/plain": [
       "         frequency  transmittance\n",
       "345506  202.670131       1.024467\n",
       "345507  202.670611       0.992668\n",
       "345508  202.671081       0.970010\n",
       "345509  202.671551       1.010211\n",
       "345510  202.672021       0.954384\n",
       "...            ...            ...\n",
       "345586  202.707801       0.996443\n",
       "345587  202.708271       0.967306\n",
       "345588  202.708741       0.948392\n",
       "345589  202.709211       0.966158\n",
       "345590  202.709681       0.996176\n",
       "\n",
       "[85 rows x 2 columns]"
      ]
     },
     "execution_count": 38,
     "metadata": {},
     "output_type": "execute_result"
    }
   ],
   "source": [
    "singlePeak = rawData[(rawData['frequency'] > 202.67) & (rawData['frequency'] < 202.71)]\n",
    "singlePeak"
   ]
  },
  {
   "cell_type": "markdown",
   "metadata": {},
   "source": [
    "# Working with data\n",
    "Now that we know how to select data that we're interested in playing with, we will explore a couple things we can do to manipulate it.  Lets use the rawX and rawY data that we were using earlier."
   ]
  },
  {
   "cell_type": "code",
   "execution_count": 88,
   "metadata": {},
   "outputs": [
    {
     "data": {
      "application/vnd.jupyter.widget-view+json": {
       "model_id": "2c7cf0e0765c476abf86a9bb33a81c73",
       "version_major": 2,
       "version_minor": 0
      },
      "text/plain": [
       "Canvas(toolbar=Toolbar(toolitems=[('Home', 'Reset original view', 'home', 'home'), ('Back', 'Back to previous …"
      ]
     },
     "metadata": {},
     "output_type": "display_data"
    },
    {
     "data": {
      "text/plain": [
       "[<matplotlib.lines.Line2D at 0x1516aa903a0>]"
      ]
     },
     "execution_count": 88,
     "metadata": {},
     "output_type": "execute_result"
    }
   ],
   "source": [
    "#Grab just one peak to work with for now, to make it a little easier for the moment.\n",
    "X = rawX[(rawX < 202.71) & (rawX > 202.67)]\n",
    "Y = rawY[(rawX < 202.71) & (rawX > 202.67)]\n",
    "plt.figure()\n",
    "plt.plot(X,Y)"
   ]
  },
  {
   "cell_type": "code",
   "execution_count": 89,
   "metadata": {},
   "outputs": [
    {
     "data": {
      "text/plain": [
       "[<matplotlib.lines.Line2D at 0x1516aadd3a0>]"
      ]
     },
     "execution_count": 89,
     "metadata": {},
     "output_type": "execute_result"
    }
   ],
   "source": [
    "deltaX = X[1:]-X[:-1]\n",
    "deltaY = Y[1:]-Y[:-1]\n",
    "midX = (X[1:]+X[:-1])/2\n",
    "firstDer = deltaY/deltaX\n",
    "plt.plot(midX,firstDer)"
   ]
  },
  {
   "cell_type": "code",
   "execution_count": 90,
   "metadata": {},
   "outputs": [],
   "source": [
    "plt.close('all')"
   ]
  },
  {
   "cell_type": "markdown",
   "metadata": {},
   "source": [
    "The next example data for this part of the tutorial is from a FTIR spectrum of benzene."
   ]
  },
  {
   "cell_type": "code",
   "execution_count": 91,
   "metadata": {},
   "outputs": [],
   "source": [
    "filename = 'TutorialData/Benzene.dpt'\n",
    "benzene = pd.read_csv(filename,sep=',',names=['Frequency','Intensity'])"
   ]
  },
  {
   "cell_type": "code",
   "execution_count": 92,
   "metadata": {},
   "outputs": [
    {
     "data": {
      "text/html": [
       "<div>\n",
       "<style scoped>\n",
       "    .dataframe tbody tr th:only-of-type {\n",
       "        vertical-align: middle;\n",
       "    }\n",
       "\n",
       "    .dataframe tbody tr th {\n",
       "        vertical-align: top;\n",
       "    }\n",
       "\n",
       "    .dataframe thead th {\n",
       "        text-align: right;\n",
       "    }\n",
       "</style>\n",
       "<table border=\"1\" class=\"dataframe\">\n",
       "  <thead>\n",
       "    <tr style=\"text-align: right;\">\n",
       "      <th></th>\n",
       "      <th>Frequency</th>\n",
       "      <th>Intensity</th>\n",
       "    </tr>\n",
       "  </thead>\n",
       "  <tbody>\n",
       "    <tr>\n",
       "      <th>0</th>\n",
       "      <td>462.0</td>\n",
       "      <td>0.20930</td>\n",
       "    </tr>\n",
       "    <tr>\n",
       "      <th>1</th>\n",
       "      <td>466.0</td>\n",
       "      <td>0.21372</td>\n",
       "    </tr>\n",
       "    <tr>\n",
       "      <th>2</th>\n",
       "      <td>470.0</td>\n",
       "      <td>0.20994</td>\n",
       "    </tr>\n",
       "    <tr>\n",
       "      <th>3</th>\n",
       "      <td>474.0</td>\n",
       "      <td>0.22550</td>\n",
       "    </tr>\n",
       "    <tr>\n",
       "      <th>4</th>\n",
       "      <td>478.0</td>\n",
       "      <td>0.20481</td>\n",
       "    </tr>\n",
       "  </tbody>\n",
       "</table>\n",
       "</div>"
      ],
      "text/plain": [
       "   Frequency  Intensity\n",
       "0      462.0    0.20930\n",
       "1      466.0    0.21372\n",
       "2      470.0    0.20994\n",
       "3      474.0    0.22550\n",
       "4      478.0    0.20481"
      ]
     },
     "execution_count": 92,
     "metadata": {},
     "output_type": "execute_result"
    }
   ],
   "source": [
    "benzene.head()"
   ]
  },
  {
   "cell_type": "markdown",
   "metadata": {},
   "source": [
    "We can plot it with matplotlib as a line plot to see the data."
   ]
  },
  {
   "cell_type": "code",
   "execution_count": 96,
   "metadata": {},
   "outputs": [
    {
     "data": {
      "application/vnd.jupyter.widget-view+json": {
       "model_id": "e75125e98ffe4aa78a0d55826ee622c6",
       "version_major": 2,
       "version_minor": 0
      },
      "text/plain": [
       "Canvas(toolbar=Toolbar(toolitems=[('Home', 'Reset original view', 'home', 'home'), ('Back', 'Back to previous …"
      ]
     },
     "metadata": {},
     "output_type": "display_data"
    }
   ],
   "source": [
    "plt.figure()\n",
    "plt.plot(benzene['Frequency'],benzene['Intensity'],'r')\n",
    "plt.show()"
   ]
  },
  {
   "cell_type": "markdown",
   "metadata": {},
   "source": [
    "Ideally, this data will have a nice baseline at 0, and any other species will be removed from it. This particular spectrum had a background measurement taken beforehand, which we should be able to use to modify our data."
   ]
  },
  {
   "cell_type": "code",
   "execution_count": 97,
   "metadata": {},
   "outputs": [
    {
     "data": {
      "text/plain": [
       "[<matplotlib.lines.Line2D at 0x1516ab1dfd0>]"
      ]
     },
     "execution_count": 97,
     "metadata": {},
     "output_type": "execute_result"
    }
   ],
   "source": [
    "filename = 'TutorialData/background.dpt'\n",
    "background = pd.read_csv(filename,sep=',',names=['Frequency','Intensity'])\n",
    "plt.plot(background['Frequency'],background['Intensity'],'b')"
   ]
  },
  {
   "cell_type": "markdown",
   "metadata": {},
   "source": [
    "Since we learned how to index specific columns out of our panda dataframes, we'll use that method for selecting the intensity columns out of both sets of data, and subtract the background out from the actual data."
   ]
  },
  {
   "cell_type": "code",
   "execution_count": 95,
   "metadata": {},
   "outputs": [
    {
     "data": {
      "application/vnd.jupyter.widget-view+json": {
       "model_id": "1a59c8be69aa4971a64f0bca32661c86",
       "version_major": 2,
       "version_minor": 0
      },
      "text/plain": [
       "Canvas(toolbar=Toolbar(toolitems=[('Home', 'Reset original view', 'home', 'home'), ('Back', 'Back to previous …"
      ]
     },
     "metadata": {},
     "output_type": "display_data"
    }
   ],
   "source": [
    "repairedX = benzene['Frequency']\n",
    "repairedY = benzene['Intensity']-background['Intensity']\n",
    "plt.figure()\n",
    "plt.plot(repairedX,repairedY,label='Corrected Data')\n",
    "plt.plot(benzene['Frequency'],benzene['Intensity'],'r',label='Raw Data')\n",
    "plt.legend()\n",
    "plt.show()"
   ]
  },
  {
   "cell_type": "code",
   "execution_count": null,
   "metadata": {},
   "outputs": [],
   "source": []
  },
  {
   "cell_type": "code",
   "execution_count": 98,
   "metadata": {},
   "outputs": [],
   "source": [
    "from scipy import signal"
   ]
  },
  {
   "cell_type": "code",
   "execution_count": 99,
   "metadata": {},
   "outputs": [],
   "source": [
    "x = []\n",
    "y = []\n",
    "for i in singlePeak.to_numpy():\n",
    "    x.append(i[0])\n",
    "    y.append(i[1])\n",
    "y\n",
    "filteredPeak = signal.medfilt(np.array(y),5)"
   ]
  },
  {
   "cell_type": "code",
   "execution_count": 106,
   "metadata": {},
   "outputs": [
    {
     "data": {
      "application/vnd.jupyter.widget-view+json": {
       "model_id": "7c98014e4f564e3c9c6f10f4056e6f8d",
       "version_major": 2,
       "version_minor": 0
      },
      "text/plain": [
       "Canvas(toolbar=Toolbar(toolitems=[('Home', 'Reset original view', 'home', 'home'), ('Back', 'Back to previous …"
      ]
     },
     "metadata": {},
     "output_type": "display_data"
    },
    {
     "data": {
      "text/plain": [
       "[<matplotlib.lines.Line2D at 0x1517224ec10>]"
      ]
     },
     "execution_count": 106,
     "metadata": {},
     "output_type": "execute_result"
    }
   ],
   "source": [
    "plt.figure()\n",
    "plt.plot(singlePeak['frequency'],singlePeak['transmittance'],'r')"
   ]
  },
  {
   "cell_type": "code",
   "execution_count": 107,
   "metadata": {},
   "outputs": [
    {
     "data": {
      "text/plain": [
       "[<matplotlib.lines.Line2D at 0x151721b5610>]"
      ]
     },
     "execution_count": 107,
     "metadata": {},
     "output_type": "execute_result"
    }
   ],
   "source": [
    "plt.plot(x,filteredPeak,'k')"
   ]
  },
  {
   "cell_type": "code",
   "execution_count": null,
   "metadata": {},
   "outputs": [],
   "source": []
  }
 ],
 "metadata": {
  "kernelspec": {
   "display_name": "Python 3",
   "language": "python",
   "name": "python3"
  },
  "language_info": {
   "codemirror_mode": {
    "name": "ipython",
    "version": 3
   },
   "file_extension": ".py",
   "mimetype": "text/x-python",
   "name": "python",
   "nbconvert_exporter": "python",
   "pygments_lexer": "ipython3",
   "version": "3.8.5"
  }
 },
 "nbformat": 4,
 "nbformat_minor": 4
}
